{
  "nbformat": 4,
  "nbformat_minor": 0,
  "metadata": {
    "colab": {
      "provenance": []
    },
    "kernelspec": {
      "name": "python3",
      "display_name": "Python 3"
    },
    "language_info": {
      "name": "python"
    }
  },
  "cells": [
    {
      "cell_type": "code",
      "execution_count": 25,
      "metadata": {
        "colab": {
          "base_uri": "https://localhost:8080/"
        },
        "id": "ANhBQE3Wa99_",
        "outputId": "4d07f9d5-6812-4701-b109-848ddaa4d7df"
      },
      "outputs": [
        {
          "output_type": "stream",
          "name": "stdout",
          "text": [
            "Dokładność: 0.79\n"
          ]
        }
      ],
      "source": [
        "from sklearn.model_selection import train_test_split\n",
        "from sklearn.pipeline import Pipeline\n",
        "from sklearn.preprocessing import OneHotEncoder\n",
        "from sklearn.compose import ColumnTransformer\n",
        "from sklearn.tree import DecisionTreeClassifier\n",
        "from sklearn.metrics import accuracy_score, classification_report\n",
        "import pandas as pd\n",
        "import numpy as np\n",
        "\n",
        "# Załaduj dane\n",
        "df = pd.read_csv(\"/content/dane_lambda_kappa_balans_80plus.csv\")\n",
        "\n",
        "# Tworzenie nowych cech\n",
        "df['czy_wysoki_ttl'] = (df['ttl_dni'] > 60).astype(int)\n",
        "df['czy_duzo_zapytan'] = (df['zapytania_na_sekunde'] > 1000).astype(int)\n",
        "df['czy_chmura_i_historia'] = ((df['chmura'] == 1) & (df['historia_danych'] == 1)).astype(int)\n",
        "\n",
        "# Przygotowanie danych\n",
        "X = df.drop(columns=['architektura'])\n",
        "y = df['architektura']\n",
        "\n",
        "# Podział na zbiory treningowe i testowe\n",
        "X_train, X_test, y_train, y_test = train_test_split(X, y, test_size=0.2, random_state=42)\n",
        "\n",
        "# Kategoryczne kolumny\n",
        "kolumny_kat = ['historia_danych', 'typ_przetwarzania', 'typ_zapytan', 'skalowalnosc', 'chmura']\n",
        "\n",
        "# Pipeline\n",
        "encoder = ColumnTransformer(\n",
        "    transformers=[('kat', OneHotEncoder(drop='first'), kolumny_kat)],\n",
        "    remainder='passthrough'\n",
        ")\n",
        "\n",
        "model = Pipeline([\n",
        "    ('preprocessing', encoder),\n",
        "    ('clf', DecisionTreeClassifier(max_depth=7, class_weight='balanced', random_state=42))\n",
        "])\n",
        "\n",
        "# Trening\n",
        "model.fit(X_train, y_train)\n",
        "\n",
        "# Predykcja i wynik\n",
        "y_pred = model.predict(X_test)\n",
        "accuracy = accuracy_score(y_test, y_pred)\n",
        "print(f\"Dokładność: {accuracy:.2f}\")\n"
      ]
    }
  ]
}
